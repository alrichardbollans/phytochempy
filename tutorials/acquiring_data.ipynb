{
 "cells": [
  {
   "metadata": {},
   "cell_type": "markdown",
   "source": "First, let's import the required methods and define some directories to store data.",
   "id": "8818e0f404ac91b0"
  },
  {
   "metadata": {
    "ExecuteTime": {
     "end_time": "2024-10-22T15:42:01.317515Z",
     "start_time": "2024-10-22T15:41:55.025779Z"
    }
   },
   "cell_type": "code",
   "source": [
    "import os\n",
    "import pandas as pd\n",
    "\n",
    "from phytochempy.compound_properties import get_npclassifier_classes_from_df\n",
    "from phytochempy.data_compilation_utilities import merge_and_tidy_compound_datasets, tidy_final_dataset\n",
    "from phytochempy.knapsack_searches import get_knapsack_data\n",
    "from phytochempy.wikidata_searches import get_wikidata, get_wikidata_id_for_taxon\n",
    "\n",
    "temporary_output_folder = 'temp_outputs'\n",
    "tidy_outputs_folder = 'outputs'"
   ],
   "id": "8d1cb69cf8defb6c",
   "outputs": [
    {
     "name": "stderr",
     "output_type": "stream",
     "text": [
      "[22/10/24 16:42:00 standardiser.standardise WARNING] Running under Windows: must disable use of timeout\n"
     ]
    }
   ],
   "execution_count": 2
  },
  {
   "metadata": {},
   "cell_type": "markdown",
   "source": "In this first example, we look at the phytochemistry of a single species. In order to do this, we collect phytochemicals for the entire family. This may seem like overkill for a single species and could be optimised in future, but in general we strongly recommend looking for data at higher taxonomic levels than the taxa of interest and then resolving the returned names and selecting the relevant data. This is because nomenclature of families/orders is much more stable than species/genera and due to intricacies of searching KNApSAcK, searches are set up to work at the level of families.",
   "id": "7c62abc7e0e963b7"
  },
  {
   "cell_type": "code",
   "id": "df87b532bfa1f26",
   "metadata": {
    "collapsed": true,
    "ExecuteTime": {
     "end_time": "2024-10-22T15:42:01.689241Z",
     "start_time": "2024-10-22T15:42:01.679263Z"
    }
   },
   "source": [
    "sp = 'Catalpa bignonioides'\n",
    "\n",
    "relevant_family = 'Bignoniaceae'"
   ],
   "outputs": [],
   "execution_count": 3
  },
  {
   "metadata": {},
   "cell_type": "markdown",
   "source": "Now lets get the wikidata. This first requires acquiring the WikiData ID for the clade of interest. We have added a utility function to get this ID (`get_wikidata_id_for_taxon`), but recommend double-checking this as there are a few reasons a simple search for this may break.",
   "id": "c0d4dceb07309fc"
  },
  {
   "metadata": {
    "ExecuteTime": {
     "end_time": "2024-10-22T14:21:38.842186Z",
     "start_time": "2024-10-22T14:16:30.190524Z"
    }
   },
   "cell_type": "code",
   "source": [
    "wiki_data_id_for_family = 'Q213453'\n",
    "\n",
    "get_wikidata(wiki_data_id_for_family, os.path.join(temporary_output_folder, 'wikidata_Bignoniaceae.csv'),\n",
    "             os.path.join(tidy_outputs_folder, 'wikidata_Bignoniaceae.csv'))"
   ],
   "id": "initial_id",
   "outputs": [
    {
     "name": "stdout",
     "output_type": "stream",
     "text": [
      "SELECT DISTINCT ?structure ?structureLabel ?structure_smiles ?structure_cas ?structure_inchikey ?organism ?organism_name ?ipniID ?chembl_id WHERE {VALUES ?taxon { wd:Q213453}?organism (wdt:P171*) ?taxon;wdt:P225 ?organism_name.?structure (p:P703/ps:P703) ?organism. OPTIONAL {?structure wdt:P235 ?structure_inchikey.}OPTIONAL {?structure wdt:P233 ?structure_smiles.}OPTIONAL {?structure wdt:P231 ?structure_cas.}OPTIONAL {?organism wdt:P961 ?ipniID.}OPTIONAL {?structure wdt:P592 ?chembl_id.}      SERVICE wikibase:label {bd:serviceParam wikibase:language \"en\".}}    LIMIT 100000\n",
      "Loading WCVP locally if exists...\n",
      "from: C:\\Users\\ari11kg\\Documents\\venvs\\phytochempy\\lib\\site-packages\\wcvpy\\wcvp_download\\inputs\\wcvp.zip\n",
      "Downloading latest WCVP version...\n",
      "to: C:\\Users\\ari11kg\\Documents\\venvs\\phytochempy\\lib\\site-packages\\wcvpy\\wcvp_download\\inputs\\wcvp.zip\n",
      "Parsing the checklist\n",
      "Time elapsed for (down)loading WCVP: 159.66256189346313s\n"
     ]
    },
    {
     "name": "stderr",
     "output_type": "stream",
     "text": [
      "C:\\Users\\ari11kg\\PycharmProjects\\phytochempy\\phytochempy\\wikidata_searches\\search.py:97: SettingWithCopyWarning: \n",
      "A value is trying to be set on a copy of a slice from a DataFrame.\n",
      "Try using .loc[row_indexer,col_indexer] = value instead\n",
      "\n",
      "See the caveats in the documentation: https://pandas.pydata.org/pandas-docs/stable/user_guide/indexing.html#returning-a-view-versus-a-copy\n",
      "  ipni_matched['matched_by'] = 'ipni_id'\n"
     ]
    },
    {
     "name": "stdout",
     "output_type": "stream",
     "text": [
      "Loading WCVP locally if exists...\n",
      "from: C:\\Users\\ari11kg\\Documents\\venvs\\phytochempy\\lib\\site-packages\\wcvpy\\wcvp_download\\inputs\\wcvp.zip\n",
      "Using up to date WCVP.\n",
      "Parsing the checklist\n",
      "Time elapsed for (down)loading WCVP: 74.84020256996155s\n"
     ]
    },
    {
     "name": "stderr",
     "output_type": "stream",
     "text": [
      "C:\\Users\\ari11kg\\Documents\\venvs\\phytochempy\\lib\\site-packages\\wcvpy\\wcvp_name_matching\\knms_name_matching.py:97: FutureWarning: A value is trying to be set on a copy of a DataFrame or Series through chained assignment using an inplace method.\n",
      "The behavior will change in pandas 3.0. This inplace method will never work because the intermediate object on which we are setting values always behaves as a copy.\n",
      "\n",
      "For example, when doing 'df[col].method(value, inplace=True)', try using 'df.method({col: value}, inplace=True)' or df[col] = df[col].method(value) instead, to perform the operation inplace on the original object.\n",
      "\n",
      "\n",
      "  records['submitted'].ffill(inplace=True)\n",
      "C:\\Users\\ari11kg\\Documents\\venvs\\phytochempy\\lib\\site-packages\\wcvpy\\wcvp_name_matching\\knms_name_matching.py:98: FutureWarning: A value is trying to be set on a copy of a DataFrame or Series through chained assignment using an inplace method.\n",
      "The behavior will change in pandas 3.0. This inplace method will never work because the intermediate object on which we are setting values always behaves as a copy.\n",
      "\n",
      "For example, when doing 'df[col].method(value, inplace=True)', try using 'df.method({col: value}, inplace=True)' or df[col] = df[col].method(value) instead, to perform the operation inplace on the original object.\n",
      "\n",
      "\n",
      "  records['match_state'].ffill(inplace=True)\n"
     ]
    },
    {
     "name": "stdout",
     "output_type": "stream",
     "text": [
      "Trying to resolve 0 names with OpenRefine\n",
      "Temp file for this run:\n",
      "name matching temp outputs\\final_resolutionsf33cff49a5b12f9a07a4dddfb7a82295.csv\n"
     ]
    }
   ],
   "execution_count": 4
  },
  {
   "metadata": {},
   "cell_type": "markdown",
   "source": "Now let's get the KNApSAcK data too. There are a few reasons this might fail for some of the genera in the family, which will cause the process to raise an error and not save the data. This could be improved by caching results.",
   "id": "7447a08c23404bb0"
  },
  {
   "metadata": {
    "ExecuteTime": {
     "end_time": "2024-10-22T15:18:04.255398Z",
     "start_time": "2024-10-22T15:02:04.553077Z"
    }
   },
   "cell_type": "code",
   "source": "get_knapsack_data([relevant_family], temporary_output_folder, os.path.join(tidy_outputs_folder, 'knapsack_data_Bignoniaceae.csv'))",
   "id": "c35efd3261b0c3fd",
   "outputs": [
    {
     "name": "stdout",
     "output_type": "stream",
     "text": [
      "Loading WCVP locally if exists...\n",
      "from: C:\\Users\\ari11kg\\Documents\\venvs\\phytochempy\\lib\\site-packages\\wcvpy\\wcvp_download\\inputs\\wcvp.zip\n",
      "Using up to date WCVP.\n",
      "Parsing the checklist\n",
      "Time elapsed for (down)loading WCVP: 146.9084050655365s\n"
     ]
    },
    {
     "name": "stderr",
     "output_type": "stream",
     "text": [
      "Searching genera in Knapsack for Bignoniaceae…: 100%|█| 270/270 [05:01<00:00,  1\n"
     ]
    },
    {
     "name": "stdout",
     "output_type": "stream",
     "text": [
      "Loading WCVP locally if exists...\n",
      "from: C:\\Users\\ari11kg\\Documents\\venvs\\phytochempy\\lib\\site-packages\\wcvpy\\wcvp_download\\inputs\\wcvp.zip\n",
      "Using up to date WCVP.\n",
      "Parsing the checklist\n",
      "Time elapsed for (down)loading WCVP: 89.14287567138672s\n"
     ]
    },
    {
     "name": "stderr",
     "output_type": "stream",
     "text": [
      "C:\\Users\\ari11kg\\Documents\\venvs\\phytochempy\\lib\\site-packages\\wcvpy\\wcvp_name_matching\\knms_name_matching.py:97: FutureWarning: A value is trying to be set on a copy of a DataFrame or Series through chained assignment using an inplace method.\n",
      "The behavior will change in pandas 3.0. This inplace method will never work because the intermediate object on which we are setting values always behaves as a copy.\n",
      "\n",
      "For example, when doing 'df[col].method(value, inplace=True)', try using 'df.method({col: value}, inplace=True)' or df[col] = df[col].method(value) instead, to perform the operation inplace on the original object.\n",
      "\n",
      "\n",
      "  records['submitted'].ffill(inplace=True)\n",
      "C:\\Users\\ari11kg\\Documents\\venvs\\phytochempy\\lib\\site-packages\\wcvpy\\wcvp_name_matching\\knms_name_matching.py:98: FutureWarning: A value is trying to be set on a copy of a DataFrame or Series through chained assignment using an inplace method.\n",
      "The behavior will change in pandas 3.0. This inplace method will never work because the intermediate object on which we are setting values always behaves as a copy.\n",
      "\n",
      "For example, when doing 'df[col].method(value, inplace=True)', try using 'df.method({col: value}, inplace=True)' or df[col] = df[col].method(value) instead, to perform the operation inplace on the original object.\n",
      "\n",
      "\n",
      "  records['match_state'].ffill(inplace=True)\n"
     ]
    },
    {
     "name": "stdout",
     "output_type": "stream",
     "text": [
      "Warning: Some samples have multiple matches in knms but havent been automatically resolved. These may still be resolved in later steps..\n",
      "Check tempfile: name matching temp outputs\\unmatched_samples_with_multiple_knms_hits598a7a68120eeacf96440f6799ed4baa.csv.\n",
      "Trying to resolve 45 names with OpenRefine\n",
      "Resolving submitted names which weren't initially matched using KNMS..\n",
      "Check tempfile: name matching temp outputs\\unmatched_to_autoresolve41ea604d004bdb6a175f32223167f347.csv.\n",
      "This may take some time... This can be sped up by specifying families of interest (if you haven't already done so) or checking the temp file for misspelled submissions.\n"
     ]
    },
    {
     "name": "stderr",
     "output_type": "stream",
     "text": [
      "Searching automated matches: 100%|██████| 20/20 [00:00<00:00, 31.54it/s]\n"
     ]
    },
    {
     "name": "stdout",
     "output_type": "stream",
     "text": [
      "WARNING: some submissions have not been resolved and must be manually resolved. Consider fixing names in your original data..\n",
      "Check tempfile: name matching temp outputs\\unmatched_samplesfeac4a81abe8d3c572af0793caecf456.csv.\n",
      "Temp file for this run:\n",
      "name matching temp outputs\\final_resolutions95e583c5f8cc1dee36d32f22ac9bbd3c.csv\n"
     ]
    },
    {
     "name": "stderr",
     "output_type": "stream",
     "text": [
      "Resolving CAS IDs..: 100%|██████████| 210/210 [05:30<00:00,  1.58s/it]\n"
     ]
    }
   ],
   "execution_count": 4
  },
  {
   "metadata": {},
   "cell_type": "markdown",
   "source": [
    "While the `temporary_output_folder` saves the raw data downloaded from the data sources, 'cleaned' versions of the downloaded data should now be saved in the `tidy_outputs_folder` which include the names resolved using `wcvpy`. \n",
    "\n",
    "Now let's look at the given species and merge both datasets together. This will combine the data and add a `Standard_SMILES` column which uses rdkit sanitzation to standardise molecules and resolve to parent fragments."
   ],
   "id": "9a6f6f3aad5d00f"
  },
  {
   "metadata": {
    "ExecuteTime": {
     "end_time": "2024-10-22T15:18:52.225117Z",
     "start_time": "2024-10-22T15:18:51.580936Z"
    }
   },
   "cell_type": "code",
   "source": [
    "tidy_wiki_data = pd.read_csv(os.path.join(tidy_outputs_folder, 'wikidata_Bignoniaceae.csv'), index_col=0)\n",
    "wiki_species_data = tidy_wiki_data[tidy_wiki_data['accepted_species'] == sp]\n",
    "\n",
    "tidy_knapsack_data = pd.read_csv(os.path.join(tidy_outputs_folder, 'knapsack_data_Bignoniaceae.csv'), index_col=0)\n",
    "knapsack_species_data = tidy_knapsack_data[tidy_knapsack_data['accepted_species'] == sp]\n",
    "\n",
    "all_compounds_in_species = merge_and_tidy_compound_datasets([wiki_species_data,knapsack_species_data],\n",
    "                                                            os.path.join(tidy_outputs_folder, 'Catalpa_bignonioides_data.csv'))\n",
    "\n"
   ],
   "id": "d9dddf4f93fc8226",
   "outputs": [
    {
     "name": "stdout",
     "output_type": "stream",
     "text": [
      "Standardising SMILES\n",
      "Getting MAIP standardisation of SMILES\n"
     ]
    },
    {
     "name": "stderr",
     "output_type": "stream",
     "text": [
      "[16:18:51] Initializing MetalDisconnector\n",
      "[16:18:51] Running MetalDisconnector\n",
      "[16:18:51] Initializing Normalizer\n",
      "[16:18:51] Running Normalizer\n",
      "[16:18:51] Running LargestFragmentChooser\n",
      "[16:18:51] Initializing MetalDisconnector\n",
      "[16:18:51] Running MetalDisconnector\n",
      "[16:18:51] Initializing Normalizer\n",
      "[16:18:51] Running Normalizer\n",
      "[16:18:51] Running LargestFragmentChooser\n",
      "[16:18:51] Initializing MetalDisconnector\n",
      "[16:18:51] Running MetalDisconnector\n",
      "[16:18:51] Initializing Normalizer\n",
      "[16:18:51] Running Normalizer\n",
      "[16:18:51] Running LargestFragmentChooser\n",
      "[16:18:51] Initializing MetalDisconnector\n",
      "[16:18:51] Running MetalDisconnector\n",
      "[16:18:51] Initializing Normalizer\n",
      "[16:18:51] Running Normalizer\n",
      "[16:18:51] Running LargestFragmentChooser\n",
      "[16:18:51] Initializing MetalDisconnector\n",
      "[16:18:51] Running MetalDisconnector\n",
      "[16:18:51] Initializing Normalizer\n",
      "[16:18:51] Running Normalizer\n",
      "[16:18:51] Running LargestFragmentChooser\n",
      "[16:18:51] Initializing MetalDisconnector\n",
      "[16:18:51] Running MetalDisconnector\n",
      "[16:18:51] Initializing Normalizer\n",
      "[16:18:51] Running Normalizer\n",
      "[16:18:51] Running LargestFragmentChooser\n",
      "[16:18:51] Initializing MetalDisconnector\n",
      "[16:18:51] Running MetalDisconnector\n",
      "[16:18:51] Initializing Normalizer\n",
      "[16:18:51] Running Normalizer\n",
      "[16:18:51] Running LargestFragmentChooser\n",
      "[16:18:51] Initializing MetalDisconnector\n",
      "[16:18:51] Running MetalDisconnector\n",
      "[16:18:51] Initializing Normalizer\n",
      "[16:18:51] Running Normalizer\n",
      "[16:18:51] Running LargestFragmentChooser\n",
      "[16:18:51] Initializing MetalDisconnector\n",
      "[16:18:51] Running MetalDisconnector\n",
      "[16:18:51] Initializing Normalizer\n",
      "[16:18:51] Running Normalizer\n",
      "[16:18:51] Running LargestFragmentChooser\n",
      "[16:18:51] Initializing MetalDisconnector\n",
      "[16:18:51] Running MetalDisconnector\n",
      "[16:18:51] Initializing Normalizer\n",
      "[16:18:51] Running Normalizer\n",
      "[16:18:51] Running LargestFragmentChooser\n",
      "[16:18:51] Initializing MetalDisconnector\n",
      "[16:18:51] Running MetalDisconnector\n",
      "[16:18:51] Initializing Normalizer\n",
      "[16:18:51] Running Normalizer\n",
      "[16:18:51] Running LargestFragmentChooser\n",
      "[16:18:51] Initializing MetalDisconnector\n",
      "[16:18:51] Running MetalDisconnector\n",
      "[16:18:51] Initializing Normalizer\n",
      "[16:18:51] Running Normalizer\n",
      "[16:18:51] Running LargestFragmentChooser\n",
      "[16:18:51] Initializing MetalDisconnector\n",
      "[16:18:51] Running MetalDisconnector\n",
      "[16:18:51] Initializing Normalizer\n",
      "[16:18:51] Running Normalizer\n",
      "[16:18:51] Running LargestFragmentChooser\n",
      "[16:18:51] Initializing MetalDisconnector\n",
      "[16:18:51] Running MetalDisconnector\n",
      "[16:18:51] Initializing Normalizer\n",
      "[16:18:51] Running Normalizer\n",
      "[16:18:51] Running LargestFragmentChooser\n",
      "[16:18:51] Initializing MetalDisconnector\n",
      "[16:18:51] Running MetalDisconnector\n",
      "[16:18:51] Initializing Normalizer\n",
      "[16:18:51] Running Normalizer\n",
      "[16:18:51] Running LargestFragmentChooser\n",
      "[16:18:51] Initializing MetalDisconnector\n",
      "[16:18:51] Running MetalDisconnector\n",
      "[16:18:51] Initializing Normalizer\n",
      "[16:18:51] Running Normalizer\n",
      "[16:18:51] Running LargestFragmentChooser\n",
      "[16:18:51] Initializing MetalDisconnector\n",
      "[16:18:51] Running MetalDisconnector\n",
      "[16:18:51] Initializing Normalizer\n",
      "[16:18:51] Running Normalizer\n",
      "[16:18:51] Running LargestFragmentChooser\n",
      "[16:18:51] Initializing MetalDisconnector\n",
      "[16:18:51] Running MetalDisconnector\n",
      "[16:18:51] Initializing Normalizer\n",
      "[16:18:51] Running Normalizer\n",
      "[16:18:51] Running LargestFragmentChooser\n",
      "[16:18:51] Initializing MetalDisconnector\n",
      "[16:18:51] Running MetalDisconnector\n",
      "[16:18:51] Initializing Normalizer\n",
      "[16:18:51] Running Normalizer\n",
      "[16:18:51] Running LargestFragmentChooser\n",
      "[16:18:51] Initializing MetalDisconnector\n",
      "[16:18:51] Running MetalDisconnector\n",
      "[16:18:51] Initializing Normalizer\n",
      "[16:18:51] Running Normalizer\n",
      "[16:18:51] Running LargestFragmentChooser\n",
      "[16:18:51] Initializing MetalDisconnector\n",
      "[16:18:51] Running MetalDisconnector\n",
      "[16:18:51] Initializing Normalizer\n",
      "[16:18:51] Running Normalizer\n",
      "[16:18:51] Running LargestFragmentChooser\n",
      "[16:18:51] Initializing MetalDisconnector\n",
      "[16:18:51] Running MetalDisconnector\n",
      "[16:18:51] Initializing Normalizer\n",
      "[16:18:51] Running Normalizer\n",
      "[16:18:51] Running LargestFragmentChooser\n",
      "[16:18:51] Initializing MetalDisconnector\n",
      "[16:18:51] Running MetalDisconnector\n",
      "[16:18:51] Initializing Normalizer\n",
      "[16:18:51] Running Normalizer\n",
      "[16:18:51] Running LargestFragmentChooser\n",
      "[16:18:51] Initializing MetalDisconnector\n",
      "[16:18:51] Running MetalDisconnector\n",
      "[16:18:51] Initializing Normalizer\n",
      "[16:18:51] Running Normalizer\n",
      "[16:18:51] Running LargestFragmentChooser\n",
      "[16:18:51] Initializing MetalDisconnector\n",
      "[16:18:51] Running MetalDisconnector\n",
      "[16:18:51] Initializing Normalizer\n",
      "[16:18:51] Running Normalizer\n",
      "[16:18:51] Running LargestFragmentChooser\n",
      "[16:18:51] Initializing MetalDisconnector\n",
      "[16:18:51] Running MetalDisconnector\n",
      "[16:18:51] Initializing Normalizer\n",
      "[16:18:51] Running Normalizer\n",
      "[16:18:51] Running LargestFragmentChooser\n",
      "[16:18:51] Initializing MetalDisconnector\n",
      "[16:18:51] Running MetalDisconnector\n",
      "[16:18:51] Initializing Normalizer\n",
      "[16:18:51] Running Normalizer\n",
      "[16:18:51] Running LargestFragmentChooser\n",
      "[16:18:51] Initializing MetalDisconnector\n",
      "[16:18:51] Running MetalDisconnector\n",
      "[16:18:51] Initializing Normalizer\n",
      "[16:18:51] Running Normalizer\n",
      "[16:18:51] Running LargestFragmentChooser\n",
      "[16:18:51] Initializing MetalDisconnector\n",
      "[16:18:51] Running MetalDisconnector\n",
      "[16:18:51] Initializing Normalizer\n",
      "[16:18:51] Running Normalizer\n",
      "[16:18:51] Running LargestFragmentChooser\n"
     ]
    }
   ],
   "execution_count": 5
  },
  {
   "metadata": {},
   "cell_type": "markdown",
   "source": "Now that we have our compound presence data, we can begin to enrich it. There are other methods in this library, but here we'll focus on NPClassifier. We first find the pathways for each compound, and then separate these pathways into separate binary columns i.e. they are one-hot encoded.",
   "id": "d82f7555e0936cbd"
  },
  {
   "metadata": {
    "ExecuteTime": {
     "end_time": "2024-10-22T15:42:08.206178Z",
     "start_time": "2024-10-22T15:42:08.113368Z"
    }
   },
   "cell_type": "code",
   "source": "data_with_npclass_classes = get_npclassifier_classes_from_df(all_compounds_in_species, 'Standard_SMILES', temporary_output_folder)",
   "id": "40a70f0e65866d2b",
   "outputs": [
    {
     "name": "stderr",
     "output_type": "stream",
     "text": [
      "0it [00:00, ?it/s]\n"
     ]
    }
   ],
   "execution_count": 4
  },
  {
   "metadata": {},
   "cell_type": "markdown",
   "source": "Now let's tidy this all up by removing rows with missing values and dropping duplicate organism-compound pairs based on the defined `COMPOUND_ID_COL`.",
   "id": "88148b3eee0f9c10"
  },
  {
   "metadata": {
    "ExecuteTime": {
     "end_time": "2024-10-22T15:42:42.829859Z",
     "start_time": "2024-10-22T15:42:42.737505Z"
    }
   },
   "cell_type": "code",
   "source": [
    "COMPOUND_ID_COL = 'Standard_SMILES'\n",
    "\n",
    "tidy_final_dataset(data_with_npclass_classes, os.path.join(tidy_outputs_folder, 'Catalpa_bignonioides_deduplicated_data.csv'), COMPOUND_ID_COL)\n"
   ],
   "id": "6f472b983761fd8c",
   "outputs": [],
   "execution_count": 5
  }
 ],
 "metadata": {
  "kernelspec": {
   "display_name": "Python 3",
   "language": "python",
   "name": "python3"
  },
  "language_info": {
   "codemirror_mode": {
    "name": "ipython",
    "version": 2
   },
   "file_extension": ".py",
   "mimetype": "text/x-python",
   "name": "python",
   "nbconvert_exporter": "python",
   "pygments_lexer": "ipython2",
   "version": "2.7.6"
  }
 },
 "nbformat": 4,
 "nbformat_minor": 5
}
