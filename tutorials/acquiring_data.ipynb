{
 "cells": [
  {
   "metadata": {},
   "cell_type": "markdown",
   "source": [
    "This tutorial will look at acquiring data for a single species and compiling it into a useful format. Note that the methods are easily extensible to genera, families and other taxonomic groupings.\n",
    "\n",
    "First, let's import the required methods and define some directories to store data. In general, the methods output raw data and cached results into a defined temporary output folder, while cleaned outputs are saved into a tidy output folder.\n",
    "\n",
    "In order to collect species data, we collect phytochemicals for the entire family. This may seem like overkill for a single species and could be optimised in future, but in general we strongly recommend looking for data at higher taxonomic levels than the taxa of interest and then resolving the returned names and selecting the relevant data. This is because nomenclature of families/orders is much more stable than species/genera and due to intricacies of searching KNApSAcK, searches are set up to work at the level of families."
   ],
   "id": "8818e0f404ac91b0"
  },
  {
   "metadata": {},
   "cell_type": "code",
   "source": [
    "import os\n",
    "import pandas as pd\n",
    "\n",
    "from phytochempy.data_compilation_utilities import merge_and_tidy_compound_datasets, tidy_final_dataset\n",
    "from phytochempy.knapsack_searches import get_knapsack_data\n",
    "from phytochempy.wikidata_searches import get_wikidata\n",
    "\n",
    "temporary_output_folder = 'temp_outputs'\n",
    "tidy_outputs_folder = 'outputs'\n",
    "\n",
    "sp = 'Catalpa bignonioides'\n",
    "relevant_family = 'Bignoniaceae'"
   ],
   "id": "8d1cb69cf8defb6c",
   "outputs": [],
   "execution_count": null
  },
  {
   "metadata": {},
   "cell_type": "markdown",
   "source": "Now lets get the WikiData. This first requires acquiring the WikiData ID for the clade of interest. We have added a utility function to get this ID (`get_wikidata_id_for_taxon`), but recommend manually checking this (i.e. by searching on https://www.wikidata.org/) as there are a few reasons a simple search for this may break.",
   "id": "c0d4dceb07309fc"
  },
  {
   "metadata": {},
   "cell_type": "code",
   "source": [
    "wiki_data_id_for_higher_taxon = 'Q213453' # This is the ID for Bignoniaceae\n",
    "\n",
    "get_wikidata(wiki_data_id_for_higher_taxon, os.path.join(temporary_output_folder, 'wikidata_Bignoniaceae.csv'),\n",
    "             os.path.join(tidy_outputs_folder, 'wikidata_Bignoniaceae.csv'))"
   ],
   "id": "initial_id",
   "outputs": [],
   "execution_count": null
  },
  {
   "metadata": {},
   "cell_type": "markdown",
   "source": "Now let's get the KNApSAcK data too. Note that there are a few reasons this might fail for some of the genera in a family, which will cause the process to raise an error and not save the data. If you run into this issue, please raise an issue and I will try to find a solution.",
   "id": "7447a08c23404bb0"
  },
  {
   "metadata": {},
   "cell_type": "code",
   "source": [
    "list_of_families_to_search = [relevant_family]\n",
    "get_knapsack_data(list_of_families_to_search, temporary_output_folder, os.path.join(tidy_outputs_folder, 'knapsack_data_Bignoniaceae.csv'))"
   ],
   "id": "c35efd3261b0c3fd",
   "outputs": [],
   "execution_count": null
  },
  {
   "metadata": {},
   "cell_type": "markdown",
   "source": [
    "While the `temporary_output_folder` saves the raw data downloaded from the data sources, 'cleaned' versions of the downloaded data should now be saved in the `tidy_outputs_folder` which include the names resolved using `wcvpy`. \n",
    "\n",
    "Now that we have the resolved names, we can filter the records based on accepted names."
   ],
   "id": "9a6f6f3aad5d00f"
  },
  {
   "metadata": {
    "ExecuteTime": {
     "end_time": "2024-10-23T09:43:58.487397Z",
     "start_time": "2024-10-23T09:43:58.393642Z"
    }
   },
   "cell_type": "code",
   "source": [
    "tidy_wiki_data = pd.read_csv(os.path.join(tidy_outputs_folder, 'wikidata_Bignoniaceae.csv'), index_col=0)\n",
    "wiki_species_data = tidy_wiki_data[tidy_wiki_data['accepted_species'] == sp]\n",
    "\n",
    "tidy_knapsack_data = pd.read_csv(os.path.join(tidy_outputs_folder, 'knapsack_data_Bignoniaceae.csv'), index_col=0)\n",
    "knapsack_species_data = tidy_knapsack_data[tidy_knapsack_data['accepted_species'] == sp]"
   ],
   "id": "cc7a9af0c7833486",
   "outputs": [],
   "execution_count": 2
  },
  {
   "metadata": {},
   "cell_type": "markdown",
   "source": [
    "Now you have the species data!\n",
    "\n",
    "If you want to continue enriching the data, a utility function `merge_and_tidy_compound_datasets` will merge the acquired datasets and add some useful columns. In particular, a `Standard_SMILES` is calculated from the given SMILES strings in the data using rdkit sanitization to standardise molecules and resolve to parent fragments."
   ],
   "id": "e14962af523d29f6"
  },
  {
   "metadata": {},
   "cell_type": "code",
   "source": [
    "all_compounds_in_species = merge_and_tidy_compound_datasets([wiki_species_data,knapsack_species_data],\n",
    "                                                            os.path.join(tidy_outputs_folder, 'Catalpa_bignonioides_data.csv'))"
   ],
   "id": "d9dddf4f93fc8226",
   "outputs": [],
   "execution_count": null
  },
  {
   "metadata": {},
   "cell_type": "markdown",
   "source": "Having all the data is great, but you probably won't want to keep duplicate organism-compound pairs. A utility function `tidy_final_dataset` will deduplicate the data for you for a given compound ID.",
   "id": "cee8e598a536f7f5"
  },
  {
   "metadata": {
    "ExecuteTime": {
     "end_time": "2024-10-23T09:44:12.405844Z",
     "start_time": "2024-10-23T09:44:12.358976Z"
    }
   },
   "cell_type": "code",
   "source": [
    "COMPOUND_ID_COL = 'Standard_SMILES'\n",
    "TAXON_GROUPING = 'accepted_species'\n",
    "\n",
    "\n",
    "tidy_final_dataset(all_compounds_in_species, os.path.join(tidy_outputs_folder, 'Catalpa_bignonioides_deduplicated_data.csv'), COMPOUND_ID_COL, TAXON_GROUPING)"
   ],
   "id": "a42efd4a987b7099",
   "outputs": [],
   "execution_count": 4
  }
 ],
 "metadata": {
  "kernelspec": {
   "display_name": "Python 3",
   "language": "python",
   "name": "python3"
  },
  "language_info": {
   "codemirror_mode": {
    "name": "ipython",
    "version": 2
   },
   "file_extension": ".py",
   "mimetype": "text/x-python",
   "name": "python",
   "nbconvert_exporter": "python",
   "pygments_lexer": "ipython2",
   "version": "2.7.6"
  }
 },
 "nbformat": 4,
 "nbformat_minor": 5
}
