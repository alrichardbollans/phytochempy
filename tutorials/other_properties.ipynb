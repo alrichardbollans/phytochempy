{
 "cells": [
  {
   "metadata": {},
   "cell_type": "markdown",
   "source": "Let's import the methods and data we used from the acquiring data tutorial.",
   "id": "cd369f04b8a93585"
  },
  {
   "metadata": {
    "ExecuteTime": {
     "end_time": "2024-10-23T11:47:50.807501Z",
     "start_time": "2024-10-23T11:47:49.652430Z"
    }
   },
   "cell_type": "code",
   "source": [
    "import os\n",
    "import pandas as pd\n",
    "\n",
    "temporary_output_folder = 'temp_outputs'\n",
    "tidy_outputs_folder = 'outputs'\n",
    "\n",
    "COMPOUND_ID_COL = 'Standard_SMILES'\n",
    "TAXON_GROUPING = 'accepted_species'\n",
    "\n",
    "Catalpa_bignonioides_deduplicated_data = pd.read_csv(os.path.join(tidy_outputs_folder, 'Catalpa_bignonioides_deduplicated_data.csv'), index_col=0)"
   ],
   "id": "89a163fce01f3c8f",
   "outputs": [],
   "execution_count": 1
  },
  {
   "metadata": {},
   "cell_type": "markdown",
   "source": [
    "Using ChEMBL we can add an `active_chembl_compound` for those compounds appearing as active/inactive in ChEMBL antiplasmodial bioassay data.\n",
    "\n",
    "For this, we use `InChIKey_simp` as compound id column as the InChIKey is a reliable compound ID, and stereoisomerism doesn't greatly impact antiplasmodial activity. You also use SMILES keys if you want, but would need to create a 'Standard_SMILES' column to match compounds in the given ChEMBL data with `df['Standard_SMILES'] = df['Smiles'].apply(standardise_SMILES)`."
   ],
   "id": "90a3e18e8045f999"
  },
  {
   "metadata": {
    "ExecuteTime": {
     "end_time": "2024-10-23T11:56:33.949600Z",
     "start_time": "2024-10-23T11:56:33.167647Z"
    }
   },
   "cell_type": "code",
   "source": [
    "from phytochempy.compound_properties import update_compound_info_from_chembl_apm_assays, add_chembl_apm_data_to_compound_df\n",
    "\n",
    "# update_compound_info_from_chembl_apm_assays() -- this will update the data provided in the package, if required\n",
    "with_chembl_data = add_chembl_apm_data_to_compound_df(Catalpa_bignonioides_deduplicated_data, output_csv=os.path.join(temporary_output_folder, 'Catalpa_bignonioides_apm_chembl.csv'), compound_id_col='InChIKey_simp')"
   ],
   "id": "2c81c23e2b1dac24",
   "outputs": [],
   "execution_count": 4
  },
  {
   "metadata": {},
   "cell_type": "markdown",
   "source": "Bioavailability rules (Lipinski & Veber), can be calculated using SMILES strings in the data.",
   "id": "c8d27850edea29e7"
  },
  {
   "metadata": {
    "ExecuteTime": {
     "end_time": "2024-10-23T11:58:48.017980Z",
     "start_time": "2024-10-23T11:58:47.909529Z"
    }
   },
   "cell_type": "code",
   "source": [
    "from phytochempy.compound_properties import add_bioavailability_rules_to_df\n",
    "\n",
    "with_bioavailability = add_bioavailability_rules_to_df(Catalpa_bignonioides_deduplicated_data, 'Standard_SMILES')"
   ],
   "id": "384d1557cf86a785",
   "outputs": [],
   "execution_count": 6
  },
  {
   "metadata": {},
   "cell_type": "markdown",
   "source": "MAIP scores can be added to your data but this requires manual uploading to https://www.ebi.ac.uk/chembl/maip/ and saving the results. The `get_manual_MAIP_to_upload` method will output a file that you can upload and the results should be downloaded and pointed to in the `add_manual_info_files` method.",
   "id": "1b60fea1b63d7225"
  },
  {
   "metadata": {},
   "cell_type": "code",
   "source": [
    "from phytochempy.data_compilation_utilities import get_manual_MAIP_to_upload, add_manual_info_files\n",
    "\n",
    "get_manual_MAIP_to_upload(Catalpa_bignonioides_deduplicated_data, temporary_output_folder)\n",
    "\n",
    "# The specified maip_output_file should be the file downloaded from MAIP.\n",
    "data_with_MAIP_scores = add_manual_info_files(with_bioavailability,\n",
    "                                 maip_output_file=os.path.join(tidy_outputs_folder, 'example_maip_file.csv'))"
   ],
   "id": "5729ebdafa8779c8",
   "outputs": [],
   "execution_count": null
  }
 ],
 "metadata": {
  "kernelspec": {
   "display_name": "Python 3",
   "language": "python",
   "name": "python3"
  },
  "language_info": {
   "codemirror_mode": {
    "name": "ipython",
    "version": 2
   },
   "file_extension": ".py",
   "mimetype": "text/x-python",
   "name": "python",
   "nbconvert_exporter": "python",
   "pygments_lexer": "ipython2",
   "version": "2.7.6"
  }
 },
 "nbformat": 4,
 "nbformat_minor": 5
}
