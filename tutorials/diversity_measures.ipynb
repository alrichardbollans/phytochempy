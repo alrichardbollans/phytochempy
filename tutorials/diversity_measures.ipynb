{
 "cells": [
  {
   "metadata": {
    "ExecuteTime": {
     "end_time": "2024-10-22T15:45:16.176464Z",
     "start_time": "2024-10-22T15:45:13.935613Z"
    }
   },
   "cell_type": "code",
   "source": [
    "import os\n",
    "import pandas as pd\n",
    "\n",
    "temporary_output_folder = 'temp_outputs'\n",
    "tidy_outputs_folder = 'outputs'\n",
    "\n",
    "COMPOUND_ID_COL = 'Standard_SMILES'\n",
    "\n",
    "Catalpa_bignonioides_deduplicated_data = pd.read_csv(os.path.join(tidy_outputs_folder, 'Catalpa_bignonioides_deduplicated_data.csv'), index_col=0)"
   ],
   "id": "89a163fce01f3c8f",
   "outputs": [
    {
     "name": "stderr",
     "output_type": "stream",
     "text": [
      "[22/10/24 16:45:15 standardiser.standardise WARNING] Running under Windows: must disable use of timeout\n"
     ]
    }
   ],
   "execution_count": 1
  },
  {
   "metadata": {},
   "cell_type": "markdown",
   "source": "",
   "id": "babc39968b728759"
  },
  {
   "cell_type": "code",
   "id": "initial_id",
   "metadata": {
    "collapsed": true,
    "ExecuteTime": {
     "end_time": "2024-10-22T15:45:44.670321Z",
     "start_time": "2024-10-22T15:45:44.629984Z"
    }
   },
   "source": "",
   "outputs": [],
   "execution_count": 2
  },
  {
   "metadata": {
    "ExecuteTime": {
     "end_time": "2024-10-22T15:50:42.870462Z",
     "start_time": "2024-10-22T15:50:40.926677Z"
    }
   },
   "cell_type": "code",
   "source": [
    "from phytochempy.chemical_diversity_metrics import calculate_FAD_measures, get_pathway_based_diversity_measures\n",
    "\n",
    "FAD_measures = calculate_FAD_measures(Catalpa_bignonioides_deduplicated_data, 'accepted_species')\n"
   ],
   "id": "f068f8e401fd1b16",
   "outputs": [
    {
     "name": "stderr",
     "output_type": "stream",
     "text": [
      "[16:50:42] DEPRECATION WARNING: please use MorganGenerator\n",
      "[16:50:42] DEPRECATION WARNING: please use MorganGenerator\n",
      "[16:50:42] DEPRECATION WARNING: please use MorganGenerator\n",
      "[16:50:42] DEPRECATION WARNING: please use MorganGenerator\n",
      "[16:50:42] DEPRECATION WARNING: please use MorganGenerator\n",
      "[16:50:42] DEPRECATION WARNING: please use MorganGenerator\n",
      "[16:50:42] DEPRECATION WARNING: please use MorganGenerator\n",
      "[16:50:42] DEPRECATION WARNING: please use MorganGenerator\n",
      "[16:50:42] DEPRECATION WARNING: please use MorganGenerator\n",
      "[16:50:42] DEPRECATION WARNING: please use MorganGenerator\n",
      "[16:50:42] DEPRECATION WARNING: please use MorganGenerator\n",
      "[16:50:42] DEPRECATION WARNING: please use MorganGenerator\n",
      "[16:50:42] DEPRECATION WARNING: please use MorganGenerator\n",
      "[16:50:42] DEPRECATION WARNING: please use MorganGenerator\n",
      "[16:50:42] DEPRECATION WARNING: please use MorganGenerator\n",
      "[16:50:42] DEPRECATION WARNING: please use MorganGenerator\n",
      "[16:50:42] DEPRECATION WARNING: please use MorganGenerator\n",
      "[16:50:42] DEPRECATION WARNING: please use MorganGenerator\n",
      "[16:50:42] DEPRECATION WARNING: please use MorganGenerator\n",
      "[16:50:42] DEPRECATION WARNING: please use MorganGenerator\n",
      "[16:50:42] DEPRECATION WARNING: please use MorganGenerator\n",
      "[16:50:42] DEPRECATION WARNING: please use MorganGenerator\n",
      "[16:50:42] DEPRECATION WARNING: please use MorganGenerator\n",
      "[16:50:42] DEPRECATION WARNING: please use MorganGenerator\n",
      "[16:50:42] DEPRECATION WARNING: please use MorganGenerator\n",
      "[16:50:42] DEPRECATION WARNING: please use MorganGenerator\n"
     ]
    }
   ],
   "execution_count": 3
  },
  {
   "metadata": {},
   "cell_type": "code",
   "outputs": [],
   "execution_count": null,
   "source": "abundance_diversity = get_pathway_based_diversity_measures(group_distinct_pathway_data, NP_PATHWAYS, taxon_grouping='accepted_species')",
   "id": "a0a34b439921d873"
  }
 ],
 "metadata": {
  "kernelspec": {
   "display_name": "Python 3",
   "language": "python",
   "name": "python3"
  },
  "language_info": {
   "codemirror_mode": {
    "name": "ipython",
    "version": 2
   },
   "file_extension": ".py",
   "mimetype": "text/x-python",
   "name": "python",
   "nbconvert_exporter": "python",
   "pygments_lexer": "ipython2",
   "version": "2.7.6"
  }
 },
 "nbformat": 4,
 "nbformat_minor": 5
}
