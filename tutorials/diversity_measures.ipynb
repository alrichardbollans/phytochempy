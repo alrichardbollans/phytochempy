{
 "cells": [
  {
   "metadata": {},
   "cell_type": "markdown",
   "source": "First let's import the methods and data we used from the acquiring data tutorial.",
   "id": "cd369f04b8a93585"
  },
  {
   "metadata": {},
   "cell_type": "code",
   "source": [
    "import os\n",
    "import pandas as pd\n",
    "\n",
    "from phytochempy.compound_properties import get_npclassifier_classes_from_df\n",
    "from phytochempy.chemical_diversity_metrics import calculate_FAD_measures, get_pathway_based_diversity_measures\n",
    "\n",
    "temporary_output_folder = 'temp_outputs'\n",
    "tidy_outputs_folder = 'outputs'\n",
    "\n",
    "COMPOUND_ID_COL = 'Standard_SMILES'\n",
    "TAXON_GROUPING = 'accepted_species'\n",
    "\n",
    "Catalpa_bignonioides_deduplicated_data = pd.read_csv(os.path.join(tidy_outputs_folder, 'Catalpa_bignonioides_deduplicated_data.csv'), index_col=0)"
   ],
   "id": "89a163fce01f3c8f",
   "outputs": [],
   "execution_count": null
  },
  {
   "metadata": {},
   "cell_type": "markdown",
   "source": "Before continuing, lets get the NPClassifier class information for the compounds. There are other methods in this library for enriching data, but here we'll focus on NPClassifier as this allows calculation of some diversity metrics.",
   "id": "e88d28963f69a3d6"
  },
  {
   "metadata": {},
   "cell_type": "code",
   "source": "data_with_npclass_classes = get_npclassifier_classes_from_df(Catalpa_bignonioides_deduplicated_data, 'Standard_SMILES', temporary_output_folder)",
   "id": "793e2e0646ff520f",
   "outputs": [],
   "execution_count": null
  },
  {
   "metadata": {},
   "cell_type": "markdown",
   "source": "Next remove compound groups that contain only a single compound. This isn't totally necessary, but some diversity indices are poorly defined in the case of a group containing only a single compound",
   "id": "90a3e18e8045f999"
  },
  {
   "metadata": {
    "ExecuteTime": {
     "end_time": "2024-10-23T11:36:21.481953Z",
     "start_time": "2024-10-23T11:36:21.460254Z"
    }
   },
   "cell_type": "code",
   "source": [
    "# Remove genera with only a single known compound prior to calculations\n",
    "counts = data_with_npclass_classes.value_counts(TAXON_GROUPING)\n",
    "groups_with_single_compounds = pd.DataFrame({TAXON_GROUPING: counts.index, 'N': counts.values})\n",
    "groups_with_single_compounds = groups_with_single_compounds[groups_with_single_compounds['N'] < 2][TAXON_GROUPING].values.tolist()\n",
    "\n",
    "group_compound_data = data_with_npclass_classes[~data_with_npclass_classes[TAXON_GROUPING].isin(groups_with_single_compounds)]"
   ],
   "id": "5729ebdafa8779c8",
   "outputs": [],
   "execution_count": 3
  },
  {
   "metadata": {},
   "cell_type": "markdown",
   "source": "Now we can start calculating chemodiversity indices for groups of compounds in the dataset.",
   "id": "babc39968b728759"
  },
  {
   "metadata": {},
   "cell_type": "code",
   "source": "FAD_measures = calculate_FAD_measures(group_compound_data, TAXON_GROUPING)",
   "id": "f068f8e401fd1b16",
   "outputs": [],
   "execution_count": null
  },
  {
   "metadata": {},
   "cell_type": "markdown",
   "source": "The NPClassifier methods finds pathways for each compound, and then separates these pathways into binary columns i.e. they are one-hot encoded, based on the taxon grouping and compound id columns. This is then used to calculate the average number of compounds falling into each pathway, for each group of compounds, and finally these values are used to calculate the pathway diversity measures.",
   "id": "db19f08555d362f2"
  },
  {
   "metadata": {},
   "cell_type": "code",
   "source": "abundance_diversity = get_pathway_based_diversity_measures(group_compound_data, TAXON_GROUPING, COMPOUND_ID_COL)",
   "id": "a0a34b439921d873",
   "outputs": [],
   "execution_count": null
  }
 ],
 "metadata": {
  "kernelspec": {
   "display_name": "Python 3",
   "language": "python",
   "name": "python3"
  },
  "language_info": {
   "codemirror_mode": {
    "name": "ipython",
    "version": 2
   },
   "file_extension": ".py",
   "mimetype": "text/x-python",
   "name": "python",
   "nbconvert_exporter": "python",
   "pygments_lexer": "ipython2",
   "version": "2.7.6"
  }
 },
 "nbformat": 4,
 "nbformat_minor": 5
}
